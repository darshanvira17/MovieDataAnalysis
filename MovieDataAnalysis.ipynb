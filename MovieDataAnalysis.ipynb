{
  "nbformat": 4,
  "nbformat_minor": 0,
  "metadata": {
    "colab": {
      "name": "MovieDataAnalysis.ipynb",
      "version": "0.3.2",
      "provenance": [],
      "collapsed_sections": []
    },
    "kernelspec": {
      "display_name": "Python 3",
      "language": "python",
      "name": "python3"
    }
  },
  "cells": [
    {
      "metadata": {
        "id": "vIxmmAyAsCma",
        "colab_type": "text"
      },
      "cell_type": "markdown",
      "source": [
        "# COMP41680 Data Science in Python Assignment 1"
      ]
    },
    {
      "metadata": {
        "id": "nzYoe4LdsCma",
        "colab_type": "text"
      },
      "cell_type": "markdown",
      "source": [
        "<b>Name:DARSHAN HARESH VIRA</b>\n",
        "\n",
        "<b>Student ID: 17204812</b>"
      ]
    },
    {
      "metadata": {
        "id": "7WKHSqU4sCma",
        "colab_type": "code",
        "colab": {}
      },
      "cell_type": "code",
      "source": [
        "import pandas as pd\n",
        "import numpy as np"
      ],
      "execution_count": 0,
      "outputs": []
    },
    {
      "metadata": {
        "id": "mubdwqatsCmp",
        "colab_type": "text"
      },
      "cell_type": "markdown",
      "source": [
        "\n",
        "## Task 1: Identify one or more suitable web APIs\n",
        "<p><b><i><font color=\"red\">API Chosen:</font></i> </b></p>\n",
        "1. A single API that was chosen for this assignment was that provided by <strong>http://www.omdbapi.com</strong></p>\n",
        "2. The API is not available for free but they give a free account upon signing up, this entitles the user to 1000 calls to the API per day.\n",
        "3. The API key I received which works here is *APIKEY* , *APIKEY*. Both work perfectly fine. So if while checking one API key is not working or is exhausted you can use the second as well.\n"
      ]
    },
    {
      "metadata": {
        "id": "Dn6RUMDOsCmp",
        "colab_type": "code",
        "colab": {}
      },
      "cell_type": "code",
      "source": [
        "apiKey = \"APIKEY\"\n",
        "#apiKey2=\"APIKEY\""
      ],
      "execution_count": 0,
      "outputs": []
    },
    {
      "metadata": {
        "id": "yXcSuxkmsCmp",
        "colab_type": "text"
      },
      "cell_type": "markdown",
      "source": [
        "\n",
        "## Task 2: Collect data your chosen API\n",
        "<font color=\"red\"><b><i>Collecting Raw Data - directly into DataFrame:</i> read_json() of Pandas Library!</font></b></p>\n",
        "The following function is written to get each movie data through one api call each. So by recursive calling of the fucntion, the entire dataframe having movie data is constructed. The function is commented throughout and is called below in Task3:"
      ]
    },
    {
      "metadata": {
        "id": "x5iubc_AsCmp",
        "colab_type": "code",
        "colab": {}
      },
      "cell_type": "code",
      "source": [
        "#api-apikey\n",
        "#api2- apikey\n",
        "import pandas as pd\n",
        "#variable data will hold all the movie data obtained by all the apicall\n",
        "data = pd.DataFrame()\n",
        "def apicall(movieId):\n",
        "    global data #global tells the fucntion to access the global variable!\n",
        "    try:\n",
        "        movieId=movieId[2:]\n",
        "        #the movie id obtained from movies.csv file(have defined what is this file about later)\n",
        "        #has \"tt\" at the start of each id, so taking only substring of the id and ignoring tt\n",
        "        if len(movieId) == 7: #just a final check that id length is equal to 7 as API needs a key which is 7 integers long\n",
        "            url = \"http://www.omdbapi.com/?i=tt\" + movieId + \"&apikey=\"+apiKey\n",
        "        else:\n",
        "            print(\"Invalid Key\")\n",
        "        #reading the json data from url directly to pandas dataframe\n",
        "        data=data.append(pd.read_json(url))\n",
        "    except Exception as e:\n",
        "        print(e)"
      ],
      "execution_count": 0,
      "outputs": []
    },
    {
      "metadata": {
        "id": "1Yx2I4_MsCm5",
        "colab_type": "text"
      },
      "cell_type": "markdown",
      "source": [
        "## Task 3: Parse the collected data, and get data stored in an appropriate file format\n",
        "<p><b><i><font color=\"red\">Calling the function and Writing collected data to CSV:</font></i> </b></p>\n",
        "The following code retreives the data using the above function apicall and writes it to a DataFrame and then exports the data to a csv file. This data needs extensive cleaning and manipulation before it can be used.</p>\n"
      ]
    },
    {
      "metadata": {
        "id": "SpCEAcEksCm5",
        "colab_type": "text"
      },
      "cell_type": "markdown",
      "source": [
        "### There are two parts:\n",
        "\n",
        "<strong> <i><u>Part 1: Reading the MovieIds from movies.csv file</u></i></strong>\n",
        "\n",
        "I have downloaded a dataset(CSV File) having IMDB movie ids, which are needed to make api call to omdb,from a github repository. I used movie id column from one csv file and took movie title from another to create a new CSV file having movie titles and IMDB ids which is read by the pyhton program below.\n",
        " \n",
        " <u>Note</u>: The csv file, \"movies.csv\" is self created by taking 2 CSVs files downloaded from github repositiories. So no code has been included below. The code directly uses the movies.csv file.\n",
        "\n",
        "<strong><i><u> Part 2: Making the API call using apicall fucntion for each movie</u></i></strong>\n",
        "\n",
        "Function apicall is called to make an api call for each movie obtained from the csv file. Then the json object is parsed directly into a DataFrame and then later, the entire dataframe is written to csv file!\n",
        "<p><u>Note</u>: The imdb movie id obtained from csv file. I have added the code to check the movie id length and then make a call to api!</p>\n",
        "\n",
        "The api is called in the code below and the collected data is stored in a csv file:"
      ]
    },
    {
      "metadata": {
        "id": "jXX8nK6wsCm5",
        "colab_type": "code",
        "colab": {}
      },
      "cell_type": "code",
      "source": [
        "#csv reading and api calling!\n",
        "df=pd.read_csv(\"movies.csv\")\n",
        "a=df['imdb_id']#getting the imdb_id column as series\n",
        "for i in a[:277]:\n",
        "    apicall(str(i))#calling the api for each movie's IMDBb Id read from movies.csv\n",
        "data=data.set_index(\"Title\") #setting the index of DF\n",
        "data.to_csv(\"CollectedData.csv\")\n",
        "#it takes a bit long at times to execute the query and might even show HTTP Error 524: Origin Time-out\n",
        "#but the data gets loaded"
      ],
      "execution_count": 0,
      "outputs": []
    },
    {
      "metadata": {
        "id": "pwzYcvJRsCm5",
        "colab_type": "text"
      },
      "cell_type": "markdown",
      "source": [
        "## Task 4: Load and Apply any pre-processing steps to clean/filter/combine the data"
      ]
    },
    {
      "metadata": {
        "id": "egSYZk8wsCm5",
        "colab_type": "text"
      },
      "cell_type": "markdown",
      "source": [
        "First we need to see the data collected"
      ]
    },
    {
      "metadata": {
        "id": "HdINzmz5sCm5",
        "colab_type": "code",
        "colab": {}
      },
      "cell_type": "code",
      "source": [
        "data"
      ],
      "execution_count": 0,
      "outputs": []
    },
    {
      "metadata": {
        "id": "w8k_XFObsCnJ",
        "colab_type": "text"
      },
      "cell_type": "markdown",
      "source": [
        "<p><b><i><font color=\"red\">Duplicate Values</font></i> </b></p>"
      ]
    },
    {
      "metadata": {
        "id": "0N7wwnR6sCnJ",
        "colab_type": "text"
      },
      "cell_type": "markdown",
      "source": [
        "We can see some data is repeated twice and some even thrice. On careful examining the data obtained, we see the column ratings causes this duplication. Ratings have:\n",
        "a) source as IMDB\n",
        "b) source as RottenTomatoes\n",
        "c) sources as Metacritic\n",
        "\n",
        "Some movies have just one of three, some have two, some have all three."
      ]
    },
    {
      "metadata": {
        "id": "66wamkWbsCnJ",
        "colab_type": "code",
        "colab": {}
      },
      "cell_type": "code",
      "source": [
        "data['Ratings']"
      ],
      "execution_count": 0,
      "outputs": []
    },
    {
      "metadata": {
        "id": "4nszNivRsCnJ",
        "colab_type": "text"
      },
      "cell_type": "markdown",
      "source": [
        "As we have a column named 'imdbRating' which has IMDB movie ratings(same data as 'Source:IMDB' of 'Ratings') and would be sufficient enough for the current analysis and thus, Ratings column can be deleted."
      ]
    },
    {
      "metadata": {
        "id": "7CsE2AiRsCnY",
        "colab_type": "code",
        "colab": {}
      },
      "cell_type": "code",
      "source": [
        "del data['Ratings']"
      ],
      "execution_count": 0,
      "outputs": []
    },
    {
      "metadata": {
        "id": "_baweUFnsCnY",
        "colab_type": "text"
      },
      "cell_type": "markdown",
      "source": [
        "But this doesn't solve the problem entirely. It just removes the column creating duplicates. To remove duplicates, I have used drop_duplicates method of Pandas and criteria to indentify duplicates can be imdbIDs of each movies."
      ]
    },
    {
      "metadata": {
        "id": "2tYS7wr8sCnY",
        "colab_type": "code",
        "colab": {}
      },
      "cell_type": "code",
      "source": [
        "data=data.drop_duplicates(subset=\"imdbID\") #subset tells which column should be used to identify two duplicates"
      ],
      "execution_count": 0,
      "outputs": []
    },
    {
      "metadata": {
        "id": "ze_0gOYmsCnY",
        "colab_type": "code",
        "colab": {}
      },
      "cell_type": "code",
      "source": [
        "data"
      ],
      "execution_count": 0,
      "outputs": []
    },
    {
      "metadata": {
        "id": "RqO8aRX1sCnt",
        "colab_type": "text"
      },
      "cell_type": "markdown",
      "source": [
        "<p><b><i><font color=\"red\">Data Reduction- Removing Redundant Columns</font></i> </b></p>"
      ]
    },
    {
      "metadata": {
        "id": "QvRNL_QXsCnv",
        "colab_type": "text"
      },
      "cell_type": "markdown",
      "source": [
        "Before plunging into further cleaning of the data we can get rid of the columns which wont be of any use to the current data analysis. The columns like,Plot,Poster,Response,Website,imdbID can be straight away deleted from the dataframe."
      ]
    },
    {
      "metadata": {
        "id": "4nz8FJr9sCnx",
        "colab_type": "code",
        "colab": {}
      },
      "cell_type": "code",
      "source": [
        "data.drop(['Plot','Poster','Response','Website','imdbID'],axis=1,inplace=True)"
      ],
      "execution_count": 0,
      "outputs": []
    },
    {
      "metadata": {
        "collapsed": true,
        "id": "JqI8y1PqsCn4",
        "colab_type": "text"
      },
      "cell_type": "markdown",
      "source": [
        "<p><b><i><font color=\"red\">Missing Value Columns</font></i> </b></p>"
      ]
    },
    {
      "metadata": {
        "id": "szL5hBs-sCn6",
        "colab_type": "code",
        "colab": {}
      },
      "cell_type": "code",
      "source": [
        "pd.isnull(data).sum()"
      ],
      "execution_count": 0,
      "outputs": []
    },
    {
      "metadata": {
        "id": "IBo5ZolasCoB",
        "colab_type": "text"
      },
      "cell_type": "markdown",
      "source": [
        "Though we see N/A values in the columns, the result of pd.isnull(data).sum() is 0 for almost all the columns, which means the data we have as N/A is in String format and not sepcifically null or N/A. To be able to count such values in each column, I have used replace function of Pandas and np.nan of Numpy"
      ]
    },
    {
      "metadata": {
        "id": "Xg1ptBjJsCoD",
        "colab_type": "code",
        "colab": {}
      },
      "cell_type": "code",
      "source": [
        "data.replace('N/A', np.nan,inplace=True)"
      ],
      "execution_count": 0,
      "outputs": []
    },
    {
      "metadata": {
        "scrolled": true,
        "id": "P-AYRBcgsCoL",
        "colab_type": "code",
        "colab": {}
      },
      "cell_type": "code",
      "source": [
        "pd.isnull(data).sum()"
      ],
      "execution_count": 0,
      "outputs": []
    },
    {
      "metadata": {
        "id": "gb28j61LsCoV",
        "colab_type": "text"
      },
      "cell_type": "markdown",
      "source": [
        "Starting with columns like <strong>Actors, Country, Director, Genre, Language, Released, Runtime, Writer</strong> have only single-digit or a small double digit value, N/A rows out of 200 and must be replaced with general term such as 'Not Available' or 'Unknown'. "
      ]
    },
    {
      "metadata": {
        "id": "3EPvVxk_sCoW",
        "colab_type": "code",
        "colab": {}
      },
      "cell_type": "code",
      "source": [
        "data[['Actors', 'Country', 'Director', 'Genre', 'Language', 'Released', 'Runtime', 'Writer']]=data[['Actors', 'Country', 'Director', 'Genre', 'Language', 'Released', 'Runtime', 'Writer']].fillna(value=\"Unknown\")"
      ],
      "execution_count": 0,
      "outputs": []
    },
    {
      "metadata": {
        "id": "tyMKg0TesCoc",
        "colab_type": "text"
      },
      "cell_type": "markdown",
      "source": [
        "Column <strong>Awards</strong> has N/A values which even represents 0 awards and 0 nominations for the film and hence the N/A values should be replaced with 0 instead of N/A"
      ]
    },
    {
      "metadata": {
        "id": "o5AWp-Z9sCoe",
        "colab_type": "code",
        "colab": {}
      },
      "cell_type": "code",
      "source": [
        "data['Awards'].replace(np.nan,'0',inplace=True)"
      ],
      "execution_count": 0,
      "outputs": []
    },
    {
      "metadata": {
        "id": "U_lvEPGtsCoi",
        "colab_type": "text"
      },
      "cell_type": "markdown",
      "source": [
        "By the rule of the thumb for columns having more than 60% data as null, they should be dropped from the table. In our case, the columns like <strong>BoxOffice, DVD, Metascore,totalSeasons</strong> must be dropped as it might produce skewed analysis if the missing values are replaced by some global constant or any central tendency as a huge amount of data will have same values."
      ]
    },
    {
      "metadata": {
        "id": "76kc2_w3sCok",
        "colab_type": "code",
        "colab": {}
      },
      "cell_type": "code",
      "source": [
        "data.drop(['BoxOffice','DVD','Metascore','totalSeasons'],axis=1,inplace=True)"
      ],
      "execution_count": 0,
      "outputs": []
    },
    {
      "metadata": {
        "id": "QuMolBeosCop",
        "colab_type": "text"
      },
      "cell_type": "markdown",
      "source": [
        "The column <strong>Production</strong> has name of the production house that made the film. This column does have 52%(48% missing) of the records with values and hence can't be ignored. The value is not numerical hence cant be replaced with central tendencies as well. So the last resort is replacing null values with a global constant again. "
      ]
    },
    {
      "metadata": {
        "id": "lIjZ_94FsCor",
        "colab_type": "code",
        "colab": {}
      },
      "cell_type": "code",
      "source": [
        "data['Production']=data['Production'].fillna(value=\"Unknown\")"
      ],
      "execution_count": 0,
      "outputs": []
    },
    {
      "metadata": {
        "id": "s57PBuNxsCow",
        "colab_type": "text"
      },
      "cell_type": "markdown",
      "source": [
        "Coming to the only remaining column with null values i.e. Ratings. Let us first find out the distinct values available in ratings."
      ]
    },
    {
      "metadata": {
        "id": "VEpp_Jf2sCoy",
        "colab_type": "code",
        "colab": {}
      },
      "cell_type": "code",
      "source": [
        "ratings_counts = data[\"Rated\"].value_counts()\n",
        "ratings_counts"
      ],
      "execution_count": 0,
      "outputs": []
    },
    {
      "metadata": {
        "id": "YdlUcwE0sCo4",
        "colab_type": "text"
      },
      "cell_type": "markdown",
      "source": [
        "First we need to bring some consistency in the existing distinct values. We can see that the column has two values,<strong> Unrated</strong> and even <strong>Not Rated</strong>. It is better to keep any one of the two as on researching further about it I found, \"Not Rated and Unrated is just different ways of saying the MPAA never assigned a rating to that particular cut\"."
      ]
    },
    {
      "metadata": {
        "id": "VBvpbvLAsCo7",
        "colab_type": "code",
        "colab": {}
      },
      "cell_type": "code",
      "source": [
        "data['Rated'].replace('UNRATED','NOT RATED',inplace=True)"
      ],
      "execution_count": 0,
      "outputs": []
    },
    {
      "metadata": {
        "id": "9_lLYtucsCpE",
        "colab_type": "text"
      },
      "cell_type": "markdown",
      "source": [
        "Given that the movie which is not rated has 'Not Rated' value, all the N/A values in the column Rated can be replaced with 'Not Rated' value."
      ]
    },
    {
      "metadata": {
        "id": "gRpRQhsbsCpG",
        "colab_type": "code",
        "colab": {}
      },
      "cell_type": "code",
      "source": [
        "data['Rated'].replace(np.nan,'NOT RATED',inplace=True)"
      ],
      "execution_count": 0,
      "outputs": []
    },
    {
      "metadata": {
        "id": "tkTjr8ebsCpN",
        "colab_type": "text"
      },
      "cell_type": "markdown",
      "source": [
        "So after treating the null values of the dataset, the resulting dataframe will not have any null values. Lets check it again!"
      ]
    },
    {
      "metadata": {
        "id": "wUbDU-BOsCpO",
        "colab_type": "code",
        "colab": {}
      },
      "cell_type": "code",
      "source": [
        "pd.isnull(data).sum()"
      ],
      "execution_count": 0,
      "outputs": []
    },
    {
      "metadata": {
        "id": "EHesVEWjsCpV",
        "colab_type": "text"
      },
      "cell_type": "markdown",
      "source": [
        "<p><b><i><font color=\"red\">Feature Transformation</font></i> </b></p>"
      ]
    },
    {
      "metadata": {
        "id": "rgLoUZbCsCpX",
        "colab_type": "text"
      },
      "cell_type": "markdown",
      "source": [
        "For graph plotting and further analysis, we need the numeric column to be in numeric format and not in string format."
      ]
    },
    {
      "metadata": {
        "id": "EVQNj8rssCpY",
        "colab_type": "code",
        "colab": {}
      },
      "cell_type": "code",
      "source": [
        "#Conversion of Numeric Values in String format to Numberic format\n",
        "data['imdbRating']=pd.to_numeric(data.imdbRating)\n",
        "#String to a List\n",
        "data['Awards']=data['Awards'].str.replace(' & ',',') #Awarsd format is 'x wins & y nominated' or 'y nominated' \n",
        "#so first remove ' & ' \n",
        "data['Awards']=data['Awards'].str.replace(' ',',')#then the sapce between 'x wins' and between 'y nominated'\n",
        "data['Awards']=data['Awards'].str.split(',')#then into List. Reason for this conversion will see in Attribute Construction"
      ],
      "execution_count": 0,
      "outputs": []
    },
    {
      "metadata": {
        "id": "k17uaBZVsCpb",
        "colab_type": "text"
      },
      "cell_type": "markdown",
      "source": [
        "Even columns <b>imdbVotes</b> and <b>Year</b> both have numeric values. But there's a twist to it.\n",
        "\n",
        "<i><u>Problem with imdbVotes:</u></i>\n",
        "The column imdb votes has values in sigle,double,triple and even quadraple digits values. as the value goes beyong 999, there's a comma in values and those values are read as string and rest of the values as int. So there's a mixture of values in the column.(found out by type() method on each value of the column)\n",
        "\n",
        "<i><u>Problem with Year:</u></i>\n",
        "Only one cell of the year column has value as '2006-' for some reason"
      ]
    },
    {
      "metadata": {
        "id": "cL3-tqCLsCpc",
        "colab_type": "code",
        "colab": {}
      },
      "cell_type": "code",
      "source": [
        "data['imdbVotes']=data.imdbVotes.astype(str) #Converting Entire column to String\n",
        "data['imdbVotes']=data['imdbVotes'].str.replace(\",\",\"\") #Removing the commas\n",
        "data['imdbVotes']=pd.to_numeric(data.imdbVotes) #Converting back to Numeric Value!"
      ],
      "execution_count": 0,
      "outputs": []
    },
    {
      "metadata": {
        "id": "B-a_AL3dsCpi",
        "colab_type": "code",
        "colab": {}
      },
      "cell_type": "code",
      "source": [
        "data['Year'].replace(regex=True,inplace=True,to_replace=r'\\D',value=r'') #keeps only digits, so \"-\" \n",
        "#or anything for that matter, expect numbers, gets deleted\n",
        "data['Year']=pd.to_numeric(data.Year) #Because of the string in '2006-' we need to apply to_numeric to entire column to the entire column"
      ],
      "execution_count": 0,
      "outputs": []
    },
    {
      "metadata": {
        "id": "P2TcBDZgsCpm",
        "colab_type": "text"
      },
      "cell_type": "markdown",
      "source": [
        "Even the column Runtime can be converted into numeric value column but first we need to remove mins from each of the value of that column and as 'mins' is common for all the values, we can rename the column as 'Runtime_mins' and then convert."
      ]
    },
    {
      "metadata": {
        "id": "RRtCCdVtsCpo",
        "colab_type": "code",
        "colab": {}
      },
      "cell_type": "code",
      "source": [
        "data['Runtime'].replace(regex=True,inplace=True,to_replace=r'\\D',value=r'') #keeps only digits nothing expect digits,\n",
        "#so mins gets deleted\n",
        "data['Runtime']=pd.to_numeric(data.Runtime) #type casting Column to int\n",
        "data.rename(index=str, columns={\"Runtime\": \"Runtime_mins\"},inplace=True) #Renaming column\n",
        "data['Runtime_mins'].fillna(0,inplace=True) #as 'unknown' values get replaced by null by the regex function"
      ],
      "execution_count": 0,
      "outputs": []
    },
    {
      "metadata": {
        "id": "h5WBbFbrsCpt",
        "colab_type": "code",
        "colab": {}
      },
      "cell_type": "code",
      "source": [
        "pd.isnull(data).sum()"
      ],
      "execution_count": 0,
      "outputs": []
    },
    {
      "metadata": {
        "collapsed": true,
        "id": "g2Z4OvassCp2",
        "colab_type": "text"
      },
      "cell_type": "markdown",
      "source": [
        "<p><b><i><font color=\"red\">Feature Construction</font></i> </b></p>"
      ]
    },
    {
      "metadata": {
        "id": "4oDLDwPfsCp3",
        "colab_type": "text"
      },
      "cell_type": "markdown",
      "source": [
        "Attribute construction refers to replacing or adding new attributes inferred by existing attributes. In our case this feature can be used on Awards column"
      ]
    },
    {
      "metadata": {
        "scrolled": true,
        "id": "85iAGAFysCp4",
        "colab_type": "code",
        "colab": {}
      },
      "cell_type": "code",
      "source": [
        "data['Wins'] = 0 #creating two columns Wins and Nominated with 0 as deafult values for all rows\n",
        "data['Nominated'] = 0\n",
        "for index, row in data.iterrows(): #itterating over the rows of data DataFrame\n",
        "    if (len(row['Awards']) == 1): #if Awards has 0 as the value,keep Wins=0,Nominated=0\n",
        "        continue\n",
        "    elif(len(row.Awards)==2):#if Awards has 'x nominated' OR 'x win' as the value,update Nominated=x OR Wins=x respectively\n",
        "        l=row.Awards[1]\n",
        "        if l[0]=='w':#if the value is x win\n",
        "            data.loc[index, 'Wins'] = row.Awards[0]\n",
        "        else:#if the value is x Nominated\n",
        "            data.loc[index, 'Nominated']= row.Awards[0]\n",
        "    else:#if Awards has x wins,y nominated as the value,update Wins=x and Nominated=y\n",
        "        l=row.Awards\n",
        "        data.loc[index,'Wins']=l[0]\n",
        "        data.loc[index,'Nominated']=l[2]\n",
        "data['Wins']=data.Wins.astype(int) #Coverting the column type as int\n",
        "data['Nominated']=data.Nominated.astype(int) #Coverting the column type as int\n",
        "del data['Awards'] #drop the Awards column"
      ],
      "execution_count": 0,
      "outputs": []
    },
    {
      "metadata": {
        "id": "va-uOWxZsCp_",
        "colab_type": "text"
      },
      "cell_type": "markdown",
      "source": [
        "<p><b><i><font color=\"red\">Sorting the clean data</font></i> </b></p>"
      ]
    },
    {
      "metadata": {
        "id": "nAxZwaonsCqB",
        "colab_type": "code",
        "colab": {}
      },
      "cell_type": "code",
      "source": [
        "data=data.sort_values(by=['Year'], ascending=[True]) #Sorting the data by Year"
      ],
      "execution_count": 0,
      "outputs": []
    },
    {
      "metadata": {
        "id": "2srRa9FNsCqH",
        "colab_type": "code",
        "colab": {}
      },
      "cell_type": "code",
      "source": [
        "data.to_csv(\"CleanedData.csv\")"
      ],
      "execution_count": 0,
      "outputs": []
    },
    {
      "metadata": {
        "id": "dY3AceaasCqL",
        "colab_type": "text"
      },
      "cell_type": "markdown",
      "source": [
        "## Task 5:  Analyse and summarise the cleaned dataset"
      ]
    },
    {
      "metadata": {
        "id": "JztNdZsrsCqM",
        "colab_type": "text"
      },
      "cell_type": "markdown",
      "source": [
        "<p><b><i><font color=\"red\">Matplotlib and Pandas Graphing</font></i> </b></p>"
      ]
    },
    {
      "metadata": {
        "id": "avbVVH_psCqQ",
        "colab_type": "code",
        "colab": {}
      },
      "cell_type": "code",
      "source": [
        "import matplotlib\n",
        "import matplotlib.pyplot as plt\n",
        "%matplotlib inline"
      ],
      "execution_count": 0,
      "outputs": []
    },
    {
      "metadata": {
        "id": "LrSj7CTPsCqS",
        "colab_type": "text"
      },
      "cell_type": "markdown",
      "source": [
        "Before going into specific analysis, lets see the basic one"
      ]
    },
    {
      "metadata": {
        "id": "CdhJRFmmsCqS",
        "colab_type": "code",
        "colab": {}
      },
      "cell_type": "code",
      "source": [
        "data.describe()"
      ],
      "execution_count": 0,
      "outputs": []
    },
    {
      "metadata": {
        "id": "9nVgtyrtsCqS",
        "colab_type": "text"
      },
      "cell_type": "markdown",
      "source": [
        "As the countries and genre are present as String(few movies have multiple countries,multiple genres), We need to check the count for individual countries as follows:\n",
        "   "
      ]
    },
    {
      "metadata": {
        "id": "sgAU2JgwsCqS",
        "colab_type": "code",
        "colab": {}
      },
      "cell_type": "code",
      "source": [
        "#Before proceeding further with the analysis, lets see which countries have the most number of entries in the dataset\n",
        "print(\"Country counts in the dataset\")\n",
        "print(\"UK: \",data['Country'].str.contains('UK').sum())\n",
        "print(\"USA: \",data['Country'].str.contains('USA').sum())\n",
        "print(\"India: \",data['Country'].str.contains('India').sum())\n",
        "print(\"France: \",data['Country'].str.contains('France').sum())\n",
        "print(\"Germany: \",data['Country'].str.contains('Germany').sum())\n",
        "print(\"Ireland: \",data['Country'].str.contains('Ireland').sum())\n",
        "print(\"Russia: \",data['Country'].str.contains('Russia').sum())\n",
        "print(\"Australia: \",data['Country'].str.contains('Australia').sum())\n",
        "print(\"China: \",data['Country'].str.contains('China').sum())\n",
        "print(\"Japan: \",data['Country'].str.contains('Japan').sum())\n",
        "print(\"Canada: \",data['Country'].str.contains('Canada').sum())\n",
        "print(\"Austria: \",data['Country'].str.contains('Austria').sum())\n",
        "print(\"Italy: \",data['Country'].str.contains('Italy').sum())"
      ],
      "execution_count": 0,
      "outputs": []
    },
    {
      "metadata": {
        "id": "OT6iCZ8isCqh",
        "colab_type": "code",
        "colab": {}
      },
      "cell_type": "code",
      "source": [
        "#Before proceeding further with the analysis, lets see which countries have the most number of entries in the dataset\n",
        "print(\"Genre counts in the dataset\")\n",
        "print(\"Drama: \",data['Genre'].str.contains('Drama').sum())\n",
        "print(\"Comedy: \",data['Genre'].str.contains('Comedy').sum())\n",
        "print(\"Action: \",data['Genre'].str.contains('Action').sum())\n",
        "print(\"Sci-Fi: \",data['Genre'].str.contains('Sci-Fi').sum())\n",
        "print(\"Crime: \",data['Genre'].str.contains('Crime').sum())\n",
        "print(\"Thriller: \",data['Genre'].str.contains('Thriller').sum())\n",
        "print(\"Documentary: \",data['Genre'].str.contains('Documentary').sum())\n",
        "print(\"Short: \",data['Genre'].str.contains('Short').sum())\n",
        "print(\"Horror: \",data['Genre'].str.contains('Horror').sum())\n",
        "print(\"Mystery: \",data['Genre'].str.contains('Mystery').sum())\n",
        "print(\"War: \",data['Genre'].str.contains('War').sum())\n",
        "print(\"Musical: \",data['Genre'].str.contains('Musical').sum())\n",
        "print(\"Advnture: \",data['Genre'].str.contains('Adventure').sum())\n",
        "print(\"Family: \",data['Genre'].str.contains('Family').sum())"
      ],
      "execution_count": 0,
      "outputs": []
    },
    {
      "metadata": {
        "id": "GInILhA4sCqh",
        "colab_type": "text"
      },
      "cell_type": "markdown",
      "source": [
        "As we can see there are highest number of entries are for USA and then India and genre as drama,comedy and action, we will use these values in majority part of our further analysis."
      ]
    },
    {
      "metadata": {
        "id": "tCbZ8LF1sCqh",
        "colab_type": "text"
      },
      "cell_type": "markdown",
      "source": [
        "<p><b><i><font color=\"red\">Genre Ratings over the years in USA and India</font></i> </b></p>"
      ]
    },
    {
      "metadata": {
        "id": "xB8WEoxjsCqx",
        "colab_type": "code",
        "colab": {}
      },
      "cell_type": "code",
      "source": [
        "plt.figure(figsize=(16,6))\n",
        "#creating a DF havind Drama movies info and country as USA\n",
        "US_drama=data[data.Country.str.contains('USA') & data.Genre.str.contains('Drama') &(data.Year>1990)]\n",
        "#Plotting the Year, imdbRatings to get Ratings of the movies over the years\n",
        "plt.plot(US_drama.Year,US_drama.imdbRating,label=\"Drama\")\n",
        "#creating a DF havind Comedy movies info and country as USA\n",
        "US_comedy=data[data.Country.str.contains('USA') & data.Genre.str.contains('Comedy') &(data.Year>1990)]\n",
        "plt.plot(US_comedy.Year,US_comedy.imdbRating,label=\"Comedy\")\n",
        "#creating a DF havind Action movies info and country as USA\n",
        "US_action=data[data.Country.str.contains('USA') & data.Genre.str.contains('Action') &(data.Year>1990)]\n",
        "plt.plot(US_action.Year,US_action.imdbRating,label=\"Action\")\n",
        "plt.xlabel('Years')#X axis label\n",
        "plt.ylabel('Ratings')#Y axis label\n",
        "#mentioning where the legend will appear and style\n",
        "plt.legend(bbox_to_anchor=(0., 1.02, 1., .102), loc=3,\n",
        "           ncol=1, borderaxespad=0.)\n",
        "plt.title(\"IMDb Ratings of Drama, Comedy and Action in US over the Years\") #title of the plot\n",
        "plt.show()\n",
        "print(\"Max rating of Drama Genre:\",US_drama.imdbRating.max())\n",
        "print(\"Max rating of Comedy Genre:\",US_comedy.imdbRating.max())\n",
        "print(\"Max rating of Action Genre:\",US_action.imdbRating.max())"
      ],
      "execution_count": 0,
      "outputs": []
    },
    {
      "metadata": {
        "collapsed": true,
        "id": "lC9wmXPFsCqx",
        "colab_type": "text"
      },
      "cell_type": "markdown",
      "source": [
        "1. As seen from the graph in the year 1995 in USA, the genres, Drama Action,Comedy had same positive rating, but Action was less popular in comparison.\n",
        "2. Towards the year 1998-1999, Action movies had better ratings but tables turned for the periods from 2000 to 2005. During this period though, Drama movies had more rating than comedy, its rating was on decline and conitnued to decline till 2010. \n",
        "3. But around 2011 and 2012, drama movies had major spikes in ratings. By the end of the graph period, Drama and Comedy movie ratings are showing increasing trend , Action movie ratings have decreasing ratings in comparison.\n",
        "\n",
        "<B> Comedy stays consistently positive rated genre in US and Comedy and Drama genres are more preferred than Action genre.</B>"
      ]
    },
    {
      "metadata": {
        "id": "2WgemE1ksCqx",
        "colab_type": "code",
        "colab": {}
      },
      "cell_type": "code",
      "source": [
        "plt.figure(figsize=(18,6)) #plot figure size\n",
        "#creating a DF havind Drama movies info and country as India\n",
        "India_drama=data[data.Country.str.contains('India') & data.Genre.str.contains('Drama')]\n",
        "#Plotting the Year, imdbRatings to get Ratings of the movies over the years\n",
        "plt.plot(India_drama.Year,India_drama.imdbRating,label=\"Drama\",)\n",
        "#creating a DF havind Action movies info and country as India\n",
        "India_comedy=data[data.Country.str.contains('India') & data.Genre.str.contains('Comedy') &(data.Year>1990)]\n",
        "plt.plot(India_comedy.Year,India_comedy.imdbRating,label=\"Comedy\")\n",
        "#creating a DF havind Action movies info and country as India\n",
        "India_action=data[data.Country.str.contains('India') & data.Genre.str.contains('Action') &(data.Year>1990)]\n",
        "plt.plot(India_action.Year,India_action.imdbRating,label=\"Action\")\n",
        "plt.xlabel('Years') #X axis label\n",
        "plt.ylabel('Ratings')#Y axis label\n",
        "#mentioning where the legend will appear and style\n",
        "plt.legend(bbox_to_anchor=(0., 1.02, 1., .102), loc=3,\n",
        "           ncol=1, borderaxespad=0.)\n",
        "plt.title(\"IMDb Ratings of Drama, Comedy and Action in India over the Years\") #title of the plot\n",
        "plt.show()\n",
        "print(\"Max rating of Drama Genre:\",India_drama.imdbRating.max())\n",
        "print(\"Max rating of Comedy Genre:\",India_comedy.imdbRating.max())\n",
        "print(\"Max rating of Action Genre:\",India_action.imdbRating.max())"
      ],
      "execution_count": 0,
      "outputs": []
    },
    {
      "metadata": {
        "id": "HRK07nhGsCqx",
        "colab_type": "text"
      },
      "cell_type": "markdown",
      "source": [
        "1. The dataset contains Drama ratings for the Indian cinema since 1970. Rest of the two categories have movie ratings from around 1990.\n",
        "2. Drama movie ratings did have a few major spikes in the year range of 1990-2000 but has minor increase and decrease from 2000-2010 and  a sharp increase near the end of the graph.\n",
        "3. Comedy movie ratings has a gradual increase over the years with minor decreases. Increases rapidly after year 2010 till the end.\n",
        "4. Action movie ratings has sharp ups and downs and not very consistent till 2000. But after 2000, Action movie ratings have increased steadily till 2010 and decreases after the year 2010.\n",
        " \n",
        "<b> Considering the fact that no genre ratings reached as high as Drama ratings in India, it is safe to say that Drama is a more preferred genre in India compared to Action and Comedy.</b>"
      ]
    },
    {
      "metadata": {
        "id": "9enCvvresCqx",
        "colab_type": "text"
      },
      "cell_type": "markdown",
      "source": [
        "<p><b><i><font color=\"red\">Runtime over the years in USA and India</font></i> </b></p>"
      ]
    },
    {
      "metadata": {
        "id": "wR8qIBv8sCqx",
        "colab_type": "code",
        "colab": {}
      },
      "cell_type": "code",
      "source": [
        "plt.figure(figsize=(16,6)) #plot figure size\n",
        "US_movies=data[data.Country.str.contains('USA') & data.Runtime_mins > 0] #as the N/A values were replaced with 0\n",
        "plt.plot(US_movies.Year,US_movies.Runtime_mins,label=\"Action\")\n",
        "plt.xlabel('Years') #X axis label\n",
        "plt.ylabel('Runtime')#Y axis label\n",
        "plt.title(\"Runtime of movies in USA over the Years\") #title of the plot\n",
        "plt.show()\n",
        "print(\"The mean of the runtime in USA for the three genres are:\")\n",
        "print(\"Drama:\",US_drama['Runtime_mins'].mean())\n",
        "print(\"Comedy:\",US_comedy['Runtime_mins'].mean())\n",
        "print(\"Action:\",US_action['Runtime_mins'].mean())\n",
        "print(\"Range of the Runtime:\",US_movies.Runtime_mins.min(),\" to \",US_movies.Runtime_mins.max())\n",
        "print(\"Average of the runtime of all the US movies:\",US_movies['Runtime_mins'].mean())"
      ],
      "execution_count": 0,
      "outputs": []
    },
    {
      "metadata": {
        "id": "9WGZ6RnPsCqx",
        "colab_type": "text"
      },
      "cell_type": "markdown",
      "source": [
        "In the start the US movies were a bit shorter than they are in recent years. But the US movie runtime has increased just a bit more over the years compared to the start, but not by much. US movies have average length of 1.5-2 hours."
      ]
    },
    {
      "metadata": {
        "scrolled": true,
        "id": "6QaV3DtpsCrB",
        "colab_type": "code",
        "colab": {}
      },
      "cell_type": "code",
      "source": [
        "plt.figure(figsize=(16,6)) #plot figure size\n",
        "India_movies=data[data.Country.str.contains('India') & data.Runtime_mins>0]\n",
        "plt.plot(India_movies.Year,India_movies.Runtime_mins)\n",
        "#plotting runtime changes over the years\n",
        "plt.xlabel('Years') #X axis label\n",
        "plt.ylabel('Runtime')#Y axis label\n",
        "plt.title(\"Runtime of movies in India over the Years\") #title of the plot\n",
        "plt.show()\n",
        "print(\"The mean of the runtime in India for the three genres are:\")\n",
        "print(\"Drama:\",India_drama['Runtime_mins'].mean())\n",
        "print(\"Comedy:\",India_comedy['Runtime_mins'].mean())\n",
        "print(\"Action:\",India_action['Runtime_mins'].mean())\n",
        "print(\"Range of the Runtime of Indian Movies:\",India_movies.Runtime_mins.min(),\" to \",India_movies.Runtime_mins.max())\n",
        "print(\"Average of the runtime of all the Indian movies:\",India_movies['Runtime_mins'].mean())"
      ],
      "execution_count": 0,
      "outputs": []
    },
    {
      "metadata": {
        "id": "vqJMPIiMsCrB",
        "colab_type": "text"
      },
      "cell_type": "markdown",
      "source": [
        "As we can see from the graph, the Indian movies' Runtime has decreased over the years. In early days, the movies in India were about 180-220 mins long. But in recent times the runtime of Indian movies has reduced to be in between 2.5-3hrs and is decreasing gradually over the years."
      ]
    },
    {
      "metadata": {
        "id": "Mm_pWtmssCrB",
        "colab_type": "text"
      },
      "cell_type": "markdown",
      "source": [
        "<p><b><i><font color=\"red\">Award Won over the years by USA and Indian movies</font></i> </b></p>"
      ]
    },
    {
      "metadata": {
        "id": "pFVgHZybsCrB",
        "colab_type": "code",
        "colab": {}
      },
      "cell_type": "code",
      "source": [
        "plt.figure(figsize=(12,8))\n",
        "plt.subplot(2, 1, 1)\n",
        "US_awards=US_movies.groupby(['Year']).sum() #first we need to group data based on year\n",
        "award_plot1=US_awards[US_awards['Wins']>0]['Wins'].plot.bar() \n",
        "award_plot1.set_title(\"Awards Won by US movies over the years\")\n",
        "award_plot1.set_ylabel(\"Wins\")\n",
        "plt.show()\n",
        "plt.figure(figsize=(12,12))\n",
        "plt.subplot(3, 1, 2)\n",
        "India_awards=India_movies.groupby(['Year']).sum() #first we need to group data based on years\n",
        "award_plot2=India_awards[India_awards['Wins']>0]['Wins'].plot.bar() \n",
        "award_plot2.set_title(\"Awards Won by Indian movies over the years\")\n",
        "award_plot2.set_ylabel(\"Wins\")\n",
        "plt.show()\n",
        "print(\"Total awards won by US movies:\",US_movies.Wins.sum())\n",
        "print(\"Total awards won by Indian movies:\",India_movies.Wins.sum())\n",
        "#Number of Wins per Year, if the 0 wins for the year then ignore that"
      ],
      "execution_count": 0,
      "outputs": []
    },
    {
      "metadata": {
        "id": "-gpzqiXQsCrB",
        "colab_type": "text"
      },
      "cell_type": "markdown",
      "source": [
        "1. As seen from the graph, the year 2015 is the most successful year for the US movies. The movies in our dataset show this trend, where the wins of US movies is increasing from year 2013 and has highest win of 35 awards in 2015.\n",
        "2. For the Indian movies, the data shows that year 2000 was the most successful year as Indian movies got more than 20 awards that year. \n",
        "3. Even though US movies are greater in number in comparison to Indian movies in the dataset, Indian movies have bagged a greater amount of awards in comparison. "
      ]
    },
    {
      "metadata": {
        "id": "Ibuz-k3asCrB",
        "colab_type": "text"
      },
      "cell_type": "markdown",
      "source": [
        "<p><b><i><font color=\"red\">Relation between Attributes</font></i> </b></p>"
      ]
    },
    {
      "metadata": {
        "id": "3oinZUVvsCrP",
        "colab_type": "text"
      },
      "cell_type": "markdown",
      "source": [
        "To check the relation between different attributes, we need to first visualise it using a scatter matrix."
      ]
    },
    {
      "metadata": {
        "id": "WnNi4vMJsCrP",
        "colab_type": "code",
        "colab": {}
      },
      "cell_type": "code",
      "source": [
        "from pandas.plotting import scatter_matrix\n",
        "scatter_matrix(data, alpha=0.7, figsize=(8, 8),diagonal='kde')"
      ],
      "execution_count": 0,
      "outputs": []
    },
    {
      "metadata": {
        "id": "MvGg2xm6sCrP",
        "colab_type": "text"
      },
      "cell_type": "markdown",
      "source": [
        "From the above Scatter Matrix on careful analysis, we can see that there exist some relation between IMDb Ratings and Wins & IMDb Ratings and Nominations."
      ]
    },
    {
      "metadata": {
        "id": "2n7yIungsCrP",
        "colab_type": "text"
      },
      "cell_type": "markdown",
      "source": [
        "<p><b><i><font color=\"red\">Relation between IMDb Ratings and Awards won,IMDb Ratings and Nominations earned by the movies</font></i> </b></p>"
      ]
    },
    {
      "metadata": {
        "id": "lX_4u_HxsCrP",
        "colab_type": "code",
        "colab": {}
      },
      "cell_type": "code",
      "source": [
        "plt.figure(figsize=(10,10))\n",
        "plt.subplot(2, 1, 1)\n",
        "plt.scatter(data['imdbRating'],data['Wins'])\n",
        "plt.xlabel('IMDb Ratings')\n",
        "plt.ylabel('Number of Awards Won')\n",
        "plt.title('Relationship between Ratings and Awards')\n",
        "plt.figure(figsize=(10,10))\n",
        "plt.subplot(2, 1, 2)\n",
        "plt.scatter(data['imdbRating'],data['Nominated'])\n",
        "plt.xlabel('IMDb Ratings')\n",
        "plt.ylabel('Number of Nominations')\n",
        "plt.title('Relationship between Ratings and Nominations')"
      ],
      "execution_count": 0,
      "outputs": []
    },
    {
      "metadata": {
        "id": "qwCaN9NmsCrP",
        "colab_type": "text"
      },
      "cell_type": "markdown",
      "source": [
        "<b>Awards</b>\n",
        "* It can be seen there's a rising exponential curve but its not always true.\n",
        "* Some movies will have higher ratings and higher awards but some might have lower ratings and still large number of awards and vice versa. \n",
        "* This is because the awards are given by critics but IMDb Ratings are given by the users/public. So there might be difference of opinion between the two and our dataset highlights this difference!"
      ]
    },
    {
      "metadata": {
        "id": "1cHrIeeJsCrP",
        "colab_type": "text"
      },
      "cell_type": "markdown",
      "source": [
        "<b>Nomination</b>\n",
        "* It can be seen the shape of the scatter plot follows a normal distribution with a bell shaped curve."
      ]
    },
    {
      "metadata": {
        "id": "GG1WXxWEsCrP",
        "colab_type": "text"
      },
      "cell_type": "markdown",
      "source": [
        "<b><i><font color=red>Relation between Rated and imdbRating </font></i></b>"
      ]
    },
    {
      "metadata": {
        "id": "q890f9NssCrP",
        "colab_type": "code",
        "colab": {}
      },
      "cell_type": "code",
      "source": [
        "plt.figure(figsize=(10,10))\n",
        "plt.subplot(2, 1, 1)\n",
        "a=data[~(data['Rated'].str.contains('NOT RATED'))] # all entries except Not Rated\n",
        "plt.barh(a.Rated,a.imdbRating)\n",
        "plt.xlabel('IMDb Ratings')\n",
        "plt.ylabel('Movie Rated as')\n",
        "plt.title('Relationship between Movie Rating/Certificate and IMDb Ratings')"
      ],
      "execution_count": 0,
      "outputs": []
    },
    {
      "metadata": {
        "id": "nhAiZgBEsCrg",
        "colab_type": "text"
      },
      "cell_type": "markdown",
      "source": [
        "<b>Movies with PG ratings have the highest ratings followed by R rated and TV-14 movies, respectively<b>"
      ]
    },
    {
      "metadata": {
        "id": "p0m-SaDNsCrg",
        "colab_type": "text"
      },
      "cell_type": "markdown",
      "source": [
        "<b><font color=red> Summary </font></b>"
      ]
    },
    {
      "metadata": {
        "id": "ELvsFl80sCrg",
        "colab_type": "text"
      },
      "cell_type": "markdown",
      "source": [
        "* The dataset had majority of US and Indian based movies with top genres as Drama,Comedy,Action.\n",
        "* Comedy and Drama genres are more preferred in US than Action genre.\n",
        "* Drama is preferred more in India than Comedy and Action.\n",
        "* Wins and IMDb Ratings have approximately rising exponential curve and Nominations and IMDb have a bell shaped normal curve.\n",
        "* Runtime has decreased over the years for India severly. India made longer movies compared to US. US have made movies of almost same length since a long period of time(slight increase or decrease periodically).\n",
        "* PG rated movies have highest IMDb Ratings.\n",
        "* Further analysis between <b> Revenue and Awards Wins and Nominations, Revenue and IMDb Ratings, Box office collection based on countries, Highest Box Collection based on Language, Country, Production House</b> could be made if BoxOffice, Budget information of all the movie is available"
      ]
    },
    {
      "metadata": {
        "id": "0kv02m0nsCrg",
        "colab_type": "code",
        "colab": {}
      },
      "cell_type": "code",
      "source": [
        ""
      ],
      "execution_count": 0,
      "outputs": []
    }
  ]
}